{
 "cells": [
  {
   "cell_type": "markdown",
   "source": [
    "# Aufgabe 1\n",
    "\n",
    "Gegen der String `url = forum.gk.inf.unibe.ch`. Verwende die `index` Methode und eine `while` Schleife um auf die Substrings: 'forum', 'gk', 'inf', 'unibe' und 'ch' zuzugreifen."
   ],
   "metadata": {
    "collapsed": false
   },
   "id": "d1b2d99d5616d395"
  },
  {
   "cell_type": "code",
   "outputs": [
    {
     "name": "stdout",
     "output_type": "stream",
     "text": [
      "forum\n",
      "gk\n",
      "inf\n",
      "unibe\n"
     ]
    }
   ],
   "source": [
    "### BEGIN SOLUTION\n",
    "url = \"forum.gk.inf.unibe.ch\"\n",
    "start = 0\n",
    "end = url.index(\".\")\n",
    "while True:\n",
    "    print(url[start:end])\n",
    "    start = end+1\n",
    "    try:\n",
    "        end = url.index(\".\", start)\n",
    "    except:\n",
    "        break\n",
    "### END SOLUTION"
   ],
   "metadata": {
    "collapsed": false,
    "ExecuteTime": {
     "end_time": "2024-03-26T14:43:43.346215Z",
     "start_time": "2024-03-26T14:43:43.341555Z"
    }
   },
   "id": "a9f54143a1b3f929",
   "execution_count": 10
  },
  {
   "cell_type": "code",
   "outputs": [],
   "source": [],
   "metadata": {
    "collapsed": false
   },
   "id": "8838dfde7562ae52"
  },
  {
   "cell_type": "markdown",
   "source": [
    "# Aufgabe 2: \n",
    "\n",
    "Im Notebook Keywords und Funktionen wurde in der Schlussaufgabe die Funktion `int_input` erarbeitet. Dabei haben wir `try` und `except` verwendet um zu überprüfen, ob ein `integer` eingegeben wurde.  \n",
    "\n",
    "Schreibe die Funktion um\n",
    "- verwende `if` und `else` statt `try` und `except` \n",
    "- verwende eine `while` Schleife, um beliebig viele Abfragen zu erlauben\n",
    "\n",
    "Zusatz:\n",
    "- verwende einen optionalen Parameter `stop_after` um die Anzahl Abfragen einzuschränken"
   ],
   "metadata": {
    "collapsed": false
   },
   "id": "a20354087e4208ac"
  },
  {
   "cell_type": "code",
   "outputs": [],
   "source": [
    "def int_input(stop_after = -1):\n",
    "    while stop_after != 0:\n",
    "        stop_after -= 1\n",
    "        eingabe = input()\n",
    "        if eingabe.isnumeric():\n",
    "            return int(eingabe)\n",
    "        else:\n",
    "            print(\"Das war keine Zahl\")\n",
    "        \n",
    "        \n",
    "        "
   ],
   "metadata": {
    "collapsed": false
   },
   "id": "8de94649a943b4cb"
  }
 ],
 "metadata": {
  "kernelspec": {
   "display_name": "Python 3",
   "language": "python",
   "name": "python3"
  },
  "language_info": {
   "codemirror_mode": {
    "name": "ipython",
    "version": 2
   },
   "file_extension": ".py",
   "mimetype": "text/x-python",
   "name": "python",
   "nbconvert_exporter": "python",
   "pygments_lexer": "ipython2",
   "version": "2.7.6"
  }
 },
 "nbformat": 4,
 "nbformat_minor": 5
}
