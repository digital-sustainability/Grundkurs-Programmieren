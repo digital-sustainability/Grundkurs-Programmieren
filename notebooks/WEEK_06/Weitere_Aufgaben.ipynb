{
 "cells": [
  {
   "cell_type": "code",
   "execution_count": null,
   "id": "initial_id",
   "metadata": {
    "collapsed": true
   },
   "outputs": [],
   "source": []
  },
  {
   "cell_type": "markdown",
   "source": [
    "# Aufgabe 1:\n",
    "\n",
    "Gegeben sei folgende Liste: `l = [\"a\", 4, \"r\", ]`. Verwende eine List Comprehension um:\n",
    "\n",
    "- String in Grossbuchstaben zu übersetzen,\n",
    "- Zahlen zu quadrieren\n"
   ],
   "metadata": {
    "collapsed": false
   },
   "id": "39a6ade9c57b177e"
  },
  {
   "cell_type": "code",
   "outputs": [],
   "source": [
    "### BEGIN SOLUTION\n",
    "l = [\"a\", 4, \"r\", 10]\n",
    "l2 = [ x.upper() if type(x) == str else x**2 for x in l  ]\n",
    "### END SOLUTION"
   ],
   "metadata": {
    "collapsed": false,
    "ExecuteTime": {
     "end_time": "2024-03-26T14:53:20.631756Z",
     "start_time": "2024-03-26T14:53:20.627470Z"
    }
   },
   "id": "9166138ecb058ecb",
   "execution_count": 5
  },
  {
   "cell_type": "markdown",
   "source": [
    "Passe die List Comprehension an, so dass auch `floats` unterstützt werden."
   ],
   "metadata": {
    "collapsed": false
   },
   "id": "c1313be092728574"
  },
  {
   "cell_type": "markdown",
   "source": [
    "# Aufgabe 2: \n",
    "\n",
    "Im Notebook Keywords und Funktionen wurde in der Schlussaufgabe die Funktion `int_input` erarbeitet. Dabei haben wir `try` und `except` verwendet um zu Überprüfen ob ein `integer` eingegeben wurde.  \n",
    "\n",
    "Schreibe die Funktion um\n",
    "- verwende `if` und `else` statt `try` und `except`"
   ],
   "metadata": {
    "collapsed": false
   },
   "id": "d851f2018cdbf13c"
  },
  {
   "cell_type": "code",
   "outputs": [
    {
     "name": "stdout",
     "output_type": "stream",
     "text": [
      "Das war keine Zahl\n"
     ]
    },
    {
     "data": {
      "text/plain": "12"
     },
     "execution_count": 11,
     "metadata": {},
     "output_type": "execute_result"
    }
   ],
   "source": [
    "### BEGIN SOLUTION\n",
    "def int_input(n):\n",
    "    for _ in range(n):\n",
    "        eingabe = input(\"Bitte gib eine Zahl ein: \")\n",
    "        if eingabe.isnumeric():\n",
    "            return int(eingabe)\n",
    "        else:\n",
    "            print(\"Das war keine Zahl\")\n",
    "int_input(2)\n",
    "### END SOLUTION"
   ],
   "metadata": {
    "collapsed": false,
    "ExecuteTime": {
     "end_time": "2024-03-26T15:08:00.585554Z",
     "start_time": "2024-03-26T15:07:56.849912Z"
    }
   },
   "id": "1532bfd2fe19f129",
   "execution_count": 11
  },
  {
   "cell_type": "markdown",
   "source": [
    "Leider existiert keine String Methode um zu überprüfen ob es sich bei einem String um einen `float` handelt. Schreibe eine Funktion `isfloat` welche `True` oder `False` zurück gibt. "
   ],
   "metadata": {
    "collapsed": false
   },
   "id": "df73b24a1a362e62"
  },
  {
   "cell_type": "code",
   "outputs": [],
   "source": [
    "### BEGIN SOLUTION\n",
    "def isfloat(s):\n",
    "    try:\n",
    "        float(s)\n",
    "        return True\n",
    "    except:\n",
    "        return False\n",
    "    \n",
    "assert isfloat(\"3.14\") == True\n",
    "assert isfloat(\"3.a\") == False\n",
    "### END SOLUTION"
   ],
   "metadata": {
    "collapsed": false,
    "ExecuteTime": {
     "end_time": "2024-03-26T15:16:38.398063Z",
     "start_time": "2024-03-26T15:16:38.392672Z"
    }
   },
   "id": "90925051a0b0e296",
   "execution_count": 18
  },
  {
   "cell_type": "markdown",
   "source": [
    "Erstelle eine neue Funktion `number_input` welche sowohl `int` wie auch `float` unterstützt. "
   ],
   "metadata": {
    "collapsed": false
   },
   "id": "b021e0753756a493"
  },
  {
   "cell_type": "code",
   "outputs": [
    {
     "data": {
      "text/plain": "3.2"
     },
     "execution_count": 20,
     "metadata": {},
     "output_type": "execute_result"
    }
   ],
   "source": [
    "### BEGIN SOLUTION\n",
    "def number_input(n):\n",
    "    for _ in range(n):\n",
    "        eingabe = input()\n",
    "        if eingabe.isnumeric():\n",
    "            return int(eingabe)\n",
    "        elif isfloat(eingabe):\n",
    "            return float(eingabe)\n",
    "        else:\n",
    "            print(\"Das war keine Zahl\")\n",
    "number_input(2)\n",
    "### END SOLUTION"
   ],
   "metadata": {
    "collapsed": false,
    "ExecuteTime": {
     "end_time": "2024-03-26T15:19:00.160560Z",
     "start_time": "2024-03-26T15:18:58.565741Z"
    }
   },
   "id": "bfc1174cd24e2765",
   "execution_count": 20
  },
  {
   "cell_type": "markdown",
   "source": [],
   "metadata": {
    "collapsed": false
   },
   "id": "b4ac1bb437afead2"
  },
  {
   "cell_type": "markdown",
   "source": [
    "9. **Variable Aktualisierung:** Schreiben Sie ein Programm, in dem eine Variable `count` mit dem Wert 0 initialisiert wird. Fordern Sie den Benutzer dreimal auf, einen Buchstaben einzugeben. Jedes Mal, wenn der Buchstabe \"a\" eingegeben wird, erhöhen Sie `count` um 1. Geben Sie am Ende den Wert von `count` aus."
   ],
   "metadata": {
    "collapsed": false
   },
   "id": "9971ef1a0ebc004c"
  },
  {
   "cell_type": "code",
   "outputs": [],
   "source": [],
   "metadata": {
    "collapsed": false
   },
   "id": "abde47ed7caefc43"
  }
 ],
 "metadata": {
  "kernelspec": {
   "display_name": "Python 3",
   "language": "python",
   "name": "python3"
  },
  "language_info": {
   "codemirror_mode": {
    "name": "ipython",
    "version": 2
   },
   "file_extension": ".py",
   "mimetype": "text/x-python",
   "name": "python",
   "nbconvert_exporter": "python",
   "pygments_lexer": "ipython2",
   "version": "2.7.6"
  }
 },
 "nbformat": 4,
 "nbformat_minor": 5
}
