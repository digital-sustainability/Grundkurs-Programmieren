{
 "cells": [
  {
   "cell_type": "markdown",
   "source": [
    "# Aufgabe 1: String-Indexierung\n",
    "Gegeben ist der String `text = \"Python\"`. Greife auf das dritte Zeichen im String `text` zu und drucke es aus. \n",
    "\n",
    "> Was gibt es im Zusammenhang mit Indexieren bei Python zu beachten?"
   ],
   "metadata": {
    "collapsed": false
   },
   "id": "f6af60b7b30c6b51"
  },
  {
   "cell_type": "markdown",
   "source": [
    "# Aufgabe 2: For-Schleife mit Strings\n",
    "\n",
    "Verwende eine For-Schleife, um über den String `name = \"Ada Lovelace\"` zu iterieren. Gib in jeder Iteration den Index und den Buchstaben aus.\n",
    "\n",
    "> Google nach der Funktion `enumarate` und versuche deine For-Schleife entsprechend anzupassen."
   ],
   "metadata": {
    "collapsed": false
   },
   "id": "149f4c1f44b6a3ec"
  },
  {
   "cell_type": "markdown",
   "source": [
    "# Aufgabe 3: Typumwandlung\n",
    "Konvertiere die Zahl `42` in einen String und verbinde sie mit dem String `Die Antwort auf alles ist: `, um einen vollständigen Satz zu bilden und auszugeben."
   ],
   "metadata": {
    "collapsed": false
   },
   "id": "fd4b7f251407a9eb"
  },
  {
   "cell_type": "markdown",
   "source": [
    "# Aufgabe 4: String und Integer Unterschied\n",
    "Erkläre den Unterschied zwischen `100` und `\"100\"` in Python. Schreibe ein kurzes Codebeispiel, das diesen Unterschied veranschaulicht, indem du einmal eine mathematische Operation und einmal eine String-Operation durchführst."
   ],
   "metadata": {
    "collapsed": false
   },
   "id": "ea72a38d8d456e82"
  },
  {
   "cell_type": "markdown",
   "source": [
    "# Aufgabe 5: Zugriff auf einzelne Zeichen\n",
    "Gegeben sei der String `url = \"forum.gk.inf.unibe.ch\"`. Extrahiere den Substring `\"gk\"` aus `url` mithilfe von String-Indexierung."
   ],
   "metadata": {
    "collapsed": false
   },
   "id": "e383f6fe331a0a1d"
  },
  {
   "cell_type": "markdown",
   "source": [
    "Bemerkung: Aufgaben 8 - 10 greifen bereits einige Themen vor, ich finde das grundsätzlich interessant aber keine grosse Präferenz.  "
   ],
   "metadata": {
    "collapsed": false
   },
   "id": "fe99b73cc5623605"
  },
  {
   "cell_type": "markdown",
   "source": [
    "\n",
    "### Aufgabe 9: Iteration über Listen\n",
    "Gegeben ist die Liste `zahlen = [1, 2, 3, 4, 5]`. Verwende eine For-Schleife, um die Quadratzahlen jeder Zahl in der Liste zu berechnen und auszugeben.\n",
    "\n",
    "### Aufgabe 10: Funktionsverschachtelung\n",
    "Schreibe eine Funktion `gruß(name)`, die einen Namen als Parameter nimmt und einen Gruß in der Form `\"Hallo, [name]!\"` zurückgibt. Rufe diese Funktion dann mit dem Namen `\"Ada\"` auf und drucke das Ergebnis aus.\n",
    "\n",
    "Diese Aufgaben decken eine Reihe von grundlegenden und etwas fortgeschritteneren Konzepten ab, die in Python häufig verwendet werden, insbesondere im Umgang mit Zeichenketten und der Durchführung von Iterationen."
   ],
   "metadata": {
    "collapsed": false
   },
   "id": "8cf9744d17020b3b"
  },
  {
   "cell_type": "code",
   "outputs": [],
   "source": [],
   "metadata": {
    "collapsed": false
   },
   "id": "dbbfc3b869d73391"
  }
 ],
 "metadata": {
  "kernelspec": {
   "display_name": "Python 3",
   "language": "python",
   "name": "python3"
  },
  "language_info": {
   "codemirror_mode": {
    "name": "ipython",
    "version": 2
   },
   "file_extension": ".py",
   "mimetype": "text/x-python",
   "name": "python",
   "nbconvert_exporter": "python",
   "pygments_lexer": "ipython2",
   "version": "2.7.6"
  }
 },
 "nbformat": 4,
 "nbformat_minor": 5
}
