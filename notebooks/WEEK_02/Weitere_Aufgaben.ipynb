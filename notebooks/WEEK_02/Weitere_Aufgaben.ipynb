{
 "cells": [
  {
   "cell_type": "code",
   "execution_count": null,
   "id": "initial_id",
   "metadata": {
    "collapsed": true
   },
   "outputs": [],
   "source": []
  },
  {
   "cell_type": "markdown",
   "source": [
    "Hier sind 10 Aufgaben, die die oben genannten Konzepte abdecken:\n",
    "\n",
    "### Mensch-Computer Interaktion\n",
    "1. **Einfache Eingabeaufforderung:** Schreiben Sie ein Programm, das den Benutzer mit `input()` nach seinem Alter fragt und dann das eingegebene Alter auf dem Bildschirm mit `print()` ausgibt.\n",
    "\n",
    "2. **Persönliche Begrüßung:** Erstellen Sie ein Programm, das den Benutzer nach seinem Vornamen fragt und dann eine personalisierte Begrüßung ausgibt, z.B. \"Hallo, [Name]!\".\n",
    "\n",
    "### Die `input()` Funktion\n",
    "3. **Feedback-Sammlung:** Schreiben Sie ein Programm, das den Benutzer mit `input()` um Feedback zu einem Produkt bittet. Speichern Sie die Eingabe in einer Variablen und geben Sie sie dann mit `print()` aus, um zu bestätigen, dass das Feedback empfangen wurde.\n",
    "\n",
    "\n",
    "### Die `print()` Funktion\n",
    "5. **Informative Ausgabe:** Schreiben Sie ein Programm, das verschiedene Arten von Informationen über Sie (wie Name, Alter, Lieblingsfarbe) in Variablen speichert und diese Informationen dann in einem vollständigen Satz mit `print()` ausgibt.\n",
    "\n",
    "6. **Escape-Sequenzen:** Demonstrieren Sie die Verwendung von Escape-Sequenzen, indem Sie einen Tabulator (`\\t`), einen Zeilenumbruch (`\\n`) und ein Anführungszeichen (`\\\"`) in einer Ausgabe mit `print()` verwenden.\n",
    "\n",
    "### String Concatenation\n",
    "7. **Name und Nachname:** Schreiben Sie ein Programm, das den Benutzer nach seinem Vornamen und Nachnamen fragt und diese dann mit einem Leerzeichen dazwischen zusammenführt und ausgibt.\n",
    "\n",
    "8. **Komplexe Begrüßung:** Erstellen Sie ein Programm, das den Benutzer nach seinem Namen und dem aktuellen Wochentag fragt. Verwenden Sie String Concatenation, um eine Nachricht wie \"Hallo, [Name], schönen [Wochentag]!\" auszugeben.\n",
    "\n",
    "### Variablen\n",
    "\n",
    "\n",
    "\n",
    "10. **Datenübertragung:** Fragen Sie den Benutzer nach zwei Hobby. Speichern Sie jedes Hobby in einer eigenen Variablen. Tauschen Sie dann die Inhalte der Variablen und geben Sie die Hobbies in umgekehrter Reihenfolge aus.\n"
   ],
   "metadata": {
    "collapsed": false
   },
   "id": "80ac108b2cac0fc9"
  },
  {
   "cell_type": "code",
   "outputs": [],
   "source": [],
   "metadata": {
    "collapsed": false
   },
   "id": "877f0feae5c69b51"
  }
 ],
 "metadata": {
  "kernelspec": {
   "display_name": "Python 3",
   "language": "python",
   "name": "python3"
  },
  "language_info": {
   "codemirror_mode": {
    "name": "ipython",
    "version": 2
   },
   "file_extension": ".py",
   "mimetype": "text/x-python",
   "name": "python",
   "nbconvert_exporter": "python",
   "pygments_lexer": "ipython2",
   "version": "2.7.6"
  }
 },
 "nbformat": 4,
 "nbformat_minor": 5
}
