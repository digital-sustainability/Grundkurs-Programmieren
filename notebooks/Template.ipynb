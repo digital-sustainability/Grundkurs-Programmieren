{
 "cells": [
  {
   "cell_type": "markdown",
   "id": "15adbd2b-020f-4bb2-b15c-a5e6d023c634",
   "metadata": {},
   "source": [
    "<img src=\"https://i.imgur.com/XSzy00d.png\" style=\"float:right;width:150px\">\n",
    "\n",
    "**Notebook-Titel**"
   ]
  },
  {
   "cell_type": "markdown",
   "id": "97644de9-9d7e-4122-8643-bb7ee9a1751c",
   "metadata": {},
   "source": [
    "# Einleitung\n",
    "\n",
    "## Lernziele\n",
    "\n",
    "* Sie verstehen...\n",
    "* Sie können anwenden..."
   ]
  },
  {
   "cell_type": "markdown",
   "id": "19318963-d4eb-4e1d-bfb8-aeb022067657",
   "metadata": {
    "tags": []
   },
   "source": [
    "## Keywords\n",
    "\n",
    "<table class=\"gk-keywords\">\n",
    "<tr>\n",
    "    <td><code class=\"known\">False</code></td>\n",
    "    <td><code>await</code></td>\n",
    "    <td><code>else</code></td>\n",
    "    <td><code>import</code></td>\n",
    "    <td><code>pass</code></td>\n",
    "</tr>\n",
    "<tr>\n",
    "    <td><code>None</code></td>\n",
    "    <td><code>break</code></td>\n",
    "    <td><code>except</code></td>\n",
    "    <td><code>in</code></td>\n",
    "    <td><code>raise</code></td>\n",
    "</tr>\n",
    "<tr>\n",
    "    <td><code class=\"known\">True</code></td>\n",
    "    <td><code>class</code></td>\n",
    "    <td><code>finally</code></td>\n",
    "    <td><code>is</code></td>\n",
    "    <td><code class=\"new\">return</code></td>\n",
    "</tr>\n",
    "<tr>\n",
    "    <td><code>and</code></td>\n",
    "    <td><code>continue</code></td>\n",
    "    <td><code>for</code></td>\n",
    "    <td><code>lambda</code></td>\n",
    "    <td><code>try</code></td>\n",
    "</tr>\n",
    "<tr>\n",
    "    <td><code>as</code></td>\n",
    "    <td><code class=\"new\">def</code></td>\n",
    "    <td><code>from</code></td>\n",
    "    <td><code>nonlocal</code></td>\n",
    "    <td><code>while</code></td>\n",
    "</tr>\n",
    "<tr>\n",
    "    <td><code>assert</code></td>\n",
    "    <td><code>del</code></td>\n",
    "    <td><code class=\"new\">global</code></td>\n",
    "    <td><code>not</code></td>\n",
    "    <td><code>with</code></td>\n",
    "</tr>\n",
    "<tr>\n",
    "    <td><code>async</code></td>\n",
    "    <td><code>elif</code></td>\n",
    "    <td><code>if</code></td>\n",
    "    <td><code>or</code></td>\n",
    "    <td><code>yield</code></td>\n",
    "</tr>\n",
    "</table>"
   ]
  },
  {
   "cell_type": "markdown",
   "id": "146de800-39e9-4476-bcda-8d5048e60e0d",
   "metadata": {
    "tags": []
   },
   "source": [
    "# Thema 1"
   ]
  },
  {
   "cell_type": "markdown",
   "id": "b793c85b-a2f8-49c6-b6c8-9f5fc87c83c4",
   "metadata": {},
   "source": [
    "<div class=\"gk-exercise\">\n",
    "\n",
    "<img src=\"https://i.imgur.com/JyhBeDB.png\" class=\"gk-exercise-image\">\n",
    "\n",
    "<span class=\"gk-exercise-label\">Aufgabe</span> \n",
    "\n",
    "...\n",
    "\n",
    "<details>\n",
    "<summary>Tipps</summary>\n",
    "    <p>Tipp <code>HTML Tags statt MD Syntax</code></p>\n",
    "<details>\n",
    "<summary>Tipp</summary>\n",
    "    <p>...</p>\n",
    "</details>\n",
    "<details>\n",
    "<summary>Tipp</summary>\n",
    "    <p>...</p>\n",
    "</details>\n",
    "</details>\n",
    "\n",
    "</div>"
   ]
  },
  {
   "cell_type": "code",
   "execution_count": null,
   "id": "2eb813fa-7062-4562-83a4-fdbc883cc319",
   "metadata": {
    "nbgrader": {
     "grade": false,
     "grade_id": "cell-3bdd71a52932ba26",
     "locked": false,
     "schema_version": 3,
     "solution": true,
     "task": false
    }
   },
   "outputs": [],
   "source": [
    "### BEGIN SOLUTION\n",
    "\n",
    "\n",
    "\n",
    "### END SOLUTION"
   ]
  },
  {
   "cell_type": "markdown",
   "id": "578547d3-8ac7-484f-878f-346c43264723",
   "metadata": {},
   "source": [
    "# Abschlussaufgabe"
   ]
  },
  {
   "cell_type": "markdown",
   "id": "5eb7a97c-b096-44e2-b7dc-396aa2f284bf",
   "metadata": {},
   "source": [
    "# Zusammenfassung\n",
    "\n",
    "Prosa (in Passiv)"
   ]
  },
  {
   "cell_type": "markdown",
   "id": "6013eaf0-cede-4c8a-a30d-39516bde545e",
   "metadata": {},
   "source": [
    "# Impressum\n",
    "\n",
    "<a rel=\"license\" href=\"http://creativecommons.org/licenses/by-sa/4.0/\"><img alt=\"Creative Commons Lizenzvertrag\" style=\"border-width:0\" src=\"https://mirrors.creativecommons.org/presskit/buttons/88x31/svg/by-sa.svg\" /></a><br />Dieses Werk ist lizenziert unter einer <a rel=\"license\" href=\"http://creativecommons.org/licenses/by-sa/4.0/\">Creative Commons Namensnennung - Weitergabe unter gleichen Bedingungen 4.0 International Lizenz</a>.\n",
    "\n",
    "Autoren: [Noe Thalheim](mailto:noe.thalheim@bfh.ch), [Benedikt Hitz-Gamper](mailto:benedikt.hitz@unibe.ch)\n",
    "\n",
    "\n",
    "```\n",
    "Code quote\n",
    "```"
   ]
  }
 ],
 "metadata": {
  "celltoolbar": "Create Assignment",
  "kernelspec": {
   "display_name": "Python 3 (ipykernel)",
   "language": "python",
   "name": "python3"
  },
  "language_info": {
   "codemirror_mode": {
    "name": "ipython",
    "version": 3
   },
   "file_extension": ".py",
   "mimetype": "text/x-python",
   "name": "python",
   "nbconvert_exporter": "python",
   "pygments_lexer": "ipython3",
   "version": "3.9.6"
  },
  "toc-autonumbering": true,
  "vscode": {
   "interpreter": {
    "hash": "b0fa6594d8f4cbf19f97940f81e996739fb7646882a419484c72d19e05852a7e"
   }
  }
 },
 "nbformat": 4,
 "nbformat_minor": 5
}
