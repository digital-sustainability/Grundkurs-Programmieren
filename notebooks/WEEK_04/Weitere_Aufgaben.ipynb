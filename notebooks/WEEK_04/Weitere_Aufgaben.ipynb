{
 "cells": [
  {
   "cell_type": "markdown",
   "source": [
    "# Aufgabe 1:\n",
    "\n",
    "Verwende die `range` Funktion um die Zahlen 10 - 1 auszugeben. Verwende dabei die Parameter `start`, `end` und `step`\n",
    "\n"
   ],
   "metadata": {
    "collapsed": false
   },
   "id": "ffbf8ac2d3967051"
  },
  {
   "cell_type": "code",
   "outputs": [
    {
     "name": "stdout",
     "output_type": "stream",
     "text": [
      "10\n",
      "9\n",
      "8\n",
      "7\n",
      "6\n",
      "5\n",
      "4\n",
      "3\n",
      "2\n",
      "1\n"
     ]
    }
   ],
   "source": [
    "### BEGIN SOLUTION\n",
    "for i in range(10, 0, -1):\n",
    "    print(i)\n",
    "### END SOLUTION"
   ],
   "metadata": {
    "collapsed": false,
    "ExecuteTime": {
     "end_time": "2024-03-26T15:29:11.114692Z",
     "start_time": "2024-03-26T15:29:11.111058Z"
    }
   },
   "id": "cd9e6fcad5666c7e",
   "execution_count": 2
  },
  {
   "cell_type": "markdown",
   "source": [
    "# Aufgabe: \n",
    "\n",
    "Erweitere die Schlussaufgabe um zwei optionale Parameter `eingabe_aufforderung` und `eingabe_rückmeldung`, damit die User Interaktion gestatlet werden kann."
   ],
   "metadata": {
    "collapsed": false
   },
   "id": "af814e3a6ca7f21f"
  },
  {
   "cell_type": "markdown",
   "source": [
    "# Aufgabe: \n",
    "\n",
    "Schreibe eine Funktion gruss(name), die einen Namen als Parameter nimmt und einen Gruß in der Form \"Hallo, [name]!\" zurückgibt. Rufe diese Funktion dann mit dem Namen \"Ada\" auf und drucke das Ergebnis aus."
   ],
   "metadata": {
    "collapsed": false
   },
   "id": "57a32b3c1a9c2309"
  },
  {
   "cell_type": "markdown",
   "source": [
    "# Aufgabe: \n",
    "\n",
    "Gegeben ist ein Code-Snippet, das versucht, durch Null zu teilen. Fange diesen Fehler mit einem try-except-Block ab und drucke eine benutzerfreundliche Fehlermeldung aus."
   ],
   "metadata": {
    "collapsed": false
   },
   "id": "cc0e2e6bd918d56d"
  },
  {
   "cell_type": "code",
   "outputs": [
    {
     "name": "stdout",
     "output_type": "stream",
     "text": [
      "Durch 0 lässt sich nicht teilen\n"
     ]
    }
   ],
   "source": [
    "### BEGIN SOLUTION\n",
    "try:\n",
    "    print(1 / 0)\n",
    "except:\n",
    "    print(\"Durch 0 lässt sich nicht teilen\")\n",
    "### END SOLUTION"
   ],
   "metadata": {
    "collapsed": false,
    "ExecuteTime": {
     "end_time": "2024-03-26T15:41:29.115987Z",
     "start_time": "2024-03-26T15:41:29.111978Z"
    }
   },
   "id": "a495873a2f6c07ce",
   "execution_count": 4
  },
  {
   "cell_type": "code",
   "outputs": [],
   "source": [],
   "metadata": {
    "collapsed": false
   },
   "id": "6c3b978373a7103"
  }
 ],
 "metadata": {
  "kernelspec": {
   "display_name": "Python 3",
   "language": "python",
   "name": "python3"
  },
  "language_info": {
   "codemirror_mode": {
    "name": "ipython",
    "version": 2
   },
   "file_extension": ".py",
   "mimetype": "text/x-python",
   "name": "python",
   "nbconvert_exporter": "python",
   "pygments_lexer": "ipython2",
   "version": "2.7.6"
  }
 },
 "nbformat": 4,
 "nbformat_minor": 5
}
